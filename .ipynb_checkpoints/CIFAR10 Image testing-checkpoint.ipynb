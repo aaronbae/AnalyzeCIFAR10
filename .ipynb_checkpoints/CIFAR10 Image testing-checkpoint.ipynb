{
 "cells": [
  {
   "cell_type": "code",
   "execution_count": 130,
   "metadata": {},
   "outputs": [],
   "source": [
    "import pickle\n",
    "import matplotlib.pyplot as plt\n",
    "import numpy as np\n",
    "import cv2\n",
    "\n",
    "import numpy as np\n",
    "def openAllBatches():\n",
    "    final_file = {}\n",
    "    for i in range(1,6):\n",
    "        with open(\"data/data_batch_\" + str(i), 'rb') as file:\n",
    "            final_file.update(pickle.load(file, encoding='bytes'))\n",
    "    final_file = {key.decode('utf-8'): value for (key, value) in final_file.items()}\n",
    "    final_file['filenames'] = [v.decode('utf-8') for v in final_file['filenames']]\n",
    "    return final_file\n",
    "\n",
    "test_set = openAllBatches()"
   ]
  },
  {
   "cell_type": "code",
   "execution_count": 157,
   "metadata": {},
   "outputs": [
    {
     "data": {
      "image/png": "[encoded data removed]",
      "text/plain": [
       "<Figure size 72x72 with 1 Axes>"
      ]
     },
     "metadata": {},
     "output_type": "display_data"
    }
   ],
   "source": [
    "def viewImage(data, i):\n",
    "    image = np.rot90(data['data'][i].reshape((32,32,3), order='F'),3)\n",
    "    plt.figure(figsize=(1,1))\n",
    "    plt.imshow(image)\n",
    "    plt.xticks([])\n",
    "    plt.yticks([]) \n",
    "    \n",
    "def viewImages(data, i):\n",
    "    print(\"NOT IMPLEMENTED\")\n",
    "    \n",
    "viewImage(test_set, 1086)"
   ]
  },
  {
   "cell_type": "code",
   "execution_count": null,
   "metadata": {},
   "outputs": [],
   "source": []
  }
 ],
 "metadata": {
  "kernelspec": {
   "display_name": "Python 3",
   "language": "python",
   "name": "python3"
  },
  "language_info": {
   "codemirror_mode": {
    "name": "ipython",
    "version": 3
   },
   "file_extension": ".py",
   "mimetype": "text/x-python",
   "name": "python",
   "nbconvert_exporter": "python",
   "pygments_lexer": "ipython3",
   "version": "3.6.4"
  }
 },
 "nbformat": 4,
 "nbformat_minor": 2
}
